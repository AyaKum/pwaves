{
 "cells": [
  {
   "cell_type": "code",
   "execution_count": 1,
   "id": "29be97b2-541d-45bf-9071-652f4f499ef4",
   "metadata": {
    "scrolled": true
   },
   "outputs": [
    {
     "name": "stdout",
     "output_type": "stream",
     "text": [
      "Найдено 6 файлов для обработки.\n",
      "Обрабатывается файл: chunk1.hdf5\n",
      "Processing chunk1.hdf5...\n",
      "Обрабатывается файл: chunk2.hdf5\n",
      "Processing chunk2.hdf5...\n",
      "Обрабатывается файл: chunk3.hdf5\n",
      "Processing chunk3.hdf5...\n",
      "Обрабатывается файл: chunk4.hdf5\n",
      "Processing chunk4.hdf5...\n",
      "Обрабатывается файл: chunk5.hdf5\n",
      "Processing chunk5.hdf5...\n",
      "Обрабатывается файл: chunk6.hdf5\n",
      "Processing chunk6.hdf5...\n",
      "Processing complete!\n"
     ]
    }
   ],
   "source": [
    "import h5py\n",
    "import csv\n",
    "import numpy as np\n",
    "import glob\n",
    "import gc  \n",
    "\n",
    "def process_hdf5(h5name, output_merge, output_writer, is_first):\n",
    "    print(f'Processing {h5name}...')\n",
    "    \n",
    "    with h5py.File(h5name, 'r') as dtfl:\n",
    "        for evi in dtfl['data']:\n",
    "            x = dtfl.get(f'data/{evi}')\n",
    "            data = np.array(x)\n",
    "\n",
    "            with h5py.File(output_merge, 'a') as HDFr:\n",
    "                dsF = HDFr.create_dataset(f\"data/{evi}\", data.shape, data=data, dtype=np.float32)\n",
    "                for attr in x.attrs:\n",
    "                    dsF.attrs[attr] = x.attrs[attr]\n",
    "            \n",
    "            # Запись в CSV\n",
    "            output_writer.writerow([x.attrs[attr] for attr in x.attrs])\n",
    "\n",
    "            # Освобождение памяти\n",
    "            del data, dsF, x\n",
    "            gc.collect()\n",
    "\n",
    "def main(inp_name):\n",
    "    output_merge = inp_name + '.hdf5'\n",
    "    \n",
    "    with h5py.File(output_merge, 'w') as HDF0:\n",
    "        HDF0.create_group(\"data\")\n",
    "    \n",
    "    csv_filename = output_merge.replace('.hdf5', '.csv')\n",
    "    with open(csv_filename, 'w', newline='') as csvfile:\n",
    "        output_writer = csv.writer(csvfile)\n",
    "        \n",
    "        sample_h5 = glob.glob('chunk*.hdf5')[0]\n",
    "        with h5py.File(sample_h5, 'r') as sample_file:\n",
    "            sample_event = list(sample_file['data'].keys())[0]\n",
    "            sample_attrs = list(sample_file[f'data/{sample_event}'].attrs.keys())\n",
    "            output_writer.writerow(sample_attrs)\n",
    "        \n",
    "        # Processing HDF5 files\n",
    "        h5_files = glob.glob('chunk*.hdf5')\n",
    "        if not h5_files:\n",
    "            print(\"Не найдено файлов 'chunk*.hdf5'. Завершение программы.\")\n",
    "        else:\n",
    "            print(f\"Найдено {len(h5_files)} файлов для обработки.\")\n",
    "        \n",
    "        for i, h5name in enumerate(h5_files):\n",
    "            print(f\"Обрабатывается файл: {h5name}\")  # Вывод имени текущего файла\n",
    "            process_hdf5(h5name, output_merge, output_writer, is_first=(i == 0))\n",
    "\n",
    "    print('Processing complete!')\n",
    "\n",
    "if __name__ == '__main__':\n",
    "    main(\"merge1\")\n"
   ]
  },
  {
   "cell_type": "code",
   "execution_count": null,
   "id": "0570bcb9-f371-404e-9582-5bc08bd1d909",
   "metadata": {},
   "outputs": [],
   "source": []
  }
 ],
 "metadata": {
  "kernelspec": {
   "display_name": "Python 3 (ipykernel)",
   "language": "python",
   "name": "python3"
  },
  "language_info": {
   "codemirror_mode": {
    "name": "ipython",
    "version": 3
   },
   "file_extension": ".py",
   "mimetype": "text/x-python",
   "name": "python",
   "nbconvert_exporter": "python",
   "pygments_lexer": "ipython3",
   "version": "3.11.7"
  }
 },
 "nbformat": 4,
 "nbformat_minor": 5
}
